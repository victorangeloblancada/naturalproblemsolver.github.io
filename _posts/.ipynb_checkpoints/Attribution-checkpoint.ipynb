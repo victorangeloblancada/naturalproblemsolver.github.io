{
 "cells": [
  {
   "cell_type": "markdown",
   "metadata": {
    "colab_type": "text",
    "id": "1Gwqmh3HnjeL"
   },
   "source": [
    "# Attribution\n",
    "Attribution refers to the set of rules that determine which ad gets credit for a sale or a conversion. The rise of the Internet allowed marketers to track user interactions throughout the entire customer journey but most advertisers still attribute 100% of conversions to the last touch channel or the last ad that the user clicked before converting."
   ]
  },
  {
   "cell_type": "markdown",
   "metadata": {
    "colab_type": "text",
    "id": "HktUpLLznjeN"
   },
   "source": [
    "## Data-Driven Attribution\n",
    "To more accurately depict the contribution of each touchpoint to the conversion, a more mathematically robust method of attribution must be applied. One way is to use a Markov chain model to represent the possible customer journeys. Markov chains show the possible touchpoint transitions as probabilities based on the current touchpoint. Markov chains also make it easier to compute the probability of conversion from the start of the journey by summing the probabilities of conversion across all possible paths."
   ]
  },
  {
   "cell_type": "markdown",
   "metadata": {
    "colab_type": "text",
    "id": "GJbr6xBDnjeO"
   },
   "source": [
    " Sergey Bril discussed how to run data-driven attribution analysis using R on his website (https://analyzecore.com/2016/08/03/attribution-model-r-part-1/). For illustrative purposes we will reuse the sample problem presented in Sergey Bril's original article. The sample Markov chain representing possible customer journeys is shown below:"
   ]
  },
  {
   "cell_type": "markdown",
   "metadata": {
    "colab_type": "text",
    "id": "YF40idDZnjeO"
   },
   "source": [
    "![Markov Chain](https://i0.wp.com/analyzecore.com/wp-content/uploads/2016/07/Screenshot-2016-07-22-14.26.50.png)"
   ]
  },
  {
   "cell_type": "markdown",
   "metadata": {
    "colab_type": "text",
    "id": "AyCL_oElnjeQ"
   },
   "source": [
    "Data-driven attribution is calculated by measuring the removal effect. The removal effect for a touchpoint is the decrease in conversion probability if the touchpoint is \"removed\" or if we assume that all users who visit the removed touchpoint will not convert."
   ]
  },
  {
   "cell_type": "markdown",
   "metadata": {
    "colab_type": "text",
    "id": "A0s8ZDNlnjeQ"
   },
   "source": [
    "![Removal Effect](https://i0.wp.com/analyzecore.com/wp-content/uploads/2016/07/Screenshot-2016-07-25-21.26.57.png)"
   ]
  },
  {
   "cell_type": "markdown",
   "metadata": {
    "colab_type": "text",
    "id": "HxRmek1AnjeS"
   },
   "source": [
    "This notebook uses Python to solve the sample attribution problem which Sergey Bril discussed on his website. This solution does not use specialized libraries and instead implements the mathematics of multi-channel attribution directly onto a Pandas dataframe. The original problem can be found here: https://analyzecore.com/2016/08/03/attribution-model-r-part-1/"
   ]
  },
  {
   "cell_type": "markdown",
   "metadata": {
    "colab_type": "text",
    "id": "nJq1Y76UnjeT"
   },
   "source": [
    "## Sources:\n",
    "\n",
    "Anderl, E., Becker, I., Wangenheim, F. V., & Schumann, J. H. (2014). Mapping the customer journey: A graph-based framework for online attribution modeling. Available at SSRN: http://ssrn.com/abstract=2343077 or http://dx.doi.org/10.2139/ssrn.2343077\n",
    "\n",
    "Bryl, S. (2018). Marketing Multi-Channel Attribution model with R (part 1: Markov chains concept) - AnalyzeCore by Sergey Bryl' - data is beautiful, data is a story. [online] AnalyzeCore by Sergey Bryl' - data is beautiful, data is a story. Available at: https://analyzecore.com/2016/08/03/attribution-model-r-part-1/ [Accessed 23 Oct. 2018]."
   ]
  },
  {
   "cell_type": "markdown",
   "metadata": {
    "colab_type": "text",
    "id": "THkc6aY1njeU"
   },
   "source": [
    "## Data-Driven Attribution in Python"
   ]
  },
  {
   "cell_type": "code",
   "execution_count": 0,
   "metadata": {
    "colab": {},
    "colab_type": "code",
    "id": "jwBd5UwZnjeV"
   },
   "outputs": [],
   "source": [
    "# Import libraries\n",
    "import pandas as pd\n",
    "import numpy as np"
   ]
  },
  {
   "cell_type": "code",
   "execution_count": 0,
   "metadata": {
    "colab": {},
    "colab_type": "code",
    "id": "yk5g0h1rnjeZ"
   },
   "outputs": [],
   "source": [
    "# Define data\n",
    "data = pd.DataFrame(np.array([[1, 'start', 1, 0],\n",
    "                              [1, 'c1', 2, 0],\n",
    "                              [1, 'c2', 3, 0],\n",
    "                              [1, 'c3', 4, 0],\n",
    "                              [1, 'purchase', 5, 1],\n",
    "                              [1, 'start', 6, 0],\n",
    "                              [1, 'c1', 7, 0],\n",
    "                              [1, 'unsuccessful', 8, 0],\n",
    "                              [2, 'start', 9, 0],\n",
    "                              [2, 'c2', 10, 0],\n",
    "                              [2, 'c3', 11, 0],\n",
    "                              [2, 'unsuccessful', 12, 0]]),\n",
    "                    columns=['customer_id',\n",
    "                             'touchpoint',\n",
    "                             'time',\n",
    "                             'conversion'])"
   ]
  },
  {
   "cell_type": "code",
   "execution_count": 0,
   "metadata": {
    "colab": {},
    "colab_type": "code",
    "id": "CWjRytANnjee"
   },
   "outputs": [],
   "source": [
    "# Clean data\n",
    "data['time'] = pd.to_numeric(data['time'], errors='coerce')\n",
    "data['touchpoint'] = data['touchpoint'].str.lower()"
   ]
  },
  {
   "cell_type": "code",
   "execution_count": 0,
   "metadata": {
    "colab": {
     "base_uri": "https://localhost:8080/",
     "height": 421
    },
    "colab_type": "code",
    "id": "kv8oT_M3njeh",
    "outputId": "3271e071-4a97-41b7-c42c-ca151a98b5e4"
   },
   "outputs": [
    {
     "data": {
      "text/html": [
       "<div>\n",
       "<style scoped>\n",
       "    .dataframe tbody tr th:only-of-type {\n",
       "        vertical-align: middle;\n",
       "    }\n",
       "\n",
       "    .dataframe tbody tr th {\n",
       "        vertical-align: top;\n",
       "    }\n",
       "\n",
       "    .dataframe thead th {\n",
       "        text-align: right;\n",
       "    }\n",
       "</style>\n",
       "<table border=\"1\" class=\"dataframe\">\n",
       "  <thead>\n",
       "    <tr style=\"text-align: right;\">\n",
       "      <th></th>\n",
       "      <th>customer_id</th>\n",
       "      <th>touchpoint</th>\n",
       "      <th>time</th>\n",
       "      <th>conversion</th>\n",
       "    </tr>\n",
       "  </thead>\n",
       "  <tbody>\n",
       "    <tr>\n",
       "      <th>0</th>\n",
       "      <td>1</td>\n",
       "      <td>start</td>\n",
       "      <td>1</td>\n",
       "      <td>0</td>\n",
       "    </tr>\n",
       "    <tr>\n",
       "      <th>1</th>\n",
       "      <td>1</td>\n",
       "      <td>c1</td>\n",
       "      <td>2</td>\n",
       "      <td>0</td>\n",
       "    </tr>\n",
       "    <tr>\n",
       "      <th>2</th>\n",
       "      <td>1</td>\n",
       "      <td>c2</td>\n",
       "      <td>3</td>\n",
       "      <td>0</td>\n",
       "    </tr>\n",
       "    <tr>\n",
       "      <th>3</th>\n",
       "      <td>1</td>\n",
       "      <td>c3</td>\n",
       "      <td>4</td>\n",
       "      <td>0</td>\n",
       "    </tr>\n",
       "    <tr>\n",
       "      <th>4</th>\n",
       "      <td>1</td>\n",
       "      <td>purchase</td>\n",
       "      <td>5</td>\n",
       "      <td>1</td>\n",
       "    </tr>\n",
       "    <tr>\n",
       "      <th>5</th>\n",
       "      <td>1</td>\n",
       "      <td>start</td>\n",
       "      <td>6</td>\n",
       "      <td>0</td>\n",
       "    </tr>\n",
       "    <tr>\n",
       "      <th>6</th>\n",
       "      <td>1</td>\n",
       "      <td>c1</td>\n",
       "      <td>7</td>\n",
       "      <td>0</td>\n",
       "    </tr>\n",
       "    <tr>\n",
       "      <th>7</th>\n",
       "      <td>1</td>\n",
       "      <td>unsuccessful</td>\n",
       "      <td>8</td>\n",
       "      <td>0</td>\n",
       "    </tr>\n",
       "    <tr>\n",
       "      <th>8</th>\n",
       "      <td>2</td>\n",
       "      <td>start</td>\n",
       "      <td>9</td>\n",
       "      <td>0</td>\n",
       "    </tr>\n",
       "    <tr>\n",
       "      <th>9</th>\n",
       "      <td>2</td>\n",
       "      <td>c2</td>\n",
       "      <td>10</td>\n",
       "      <td>0</td>\n",
       "    </tr>\n",
       "    <tr>\n",
       "      <th>10</th>\n",
       "      <td>2</td>\n",
       "      <td>c3</td>\n",
       "      <td>11</td>\n",
       "      <td>0</td>\n",
       "    </tr>\n",
       "    <tr>\n",
       "      <th>11</th>\n",
       "      <td>2</td>\n",
       "      <td>unsuccessful</td>\n",
       "      <td>12</td>\n",
       "      <td>0</td>\n",
       "    </tr>\n",
       "  </tbody>\n",
       "</table>\n",
       "</div>"
      ],
      "text/plain": [
       "   customer_id    touchpoint  time conversion\n",
       "0            1         start     1          0\n",
       "1            1            c1     2          0\n",
       "2            1            c2     3          0\n",
       "3            1            c3     4          0\n",
       "4            1      purchase     5          1\n",
       "5            1         start     6          0\n",
       "6            1            c1     7          0\n",
       "7            1  unsuccessful     8          0\n",
       "8            2         start     9          0\n",
       "9            2            c2    10          0\n",
       "10           2            c3    11          0\n",
       "11           2  unsuccessful    12          0"
      ]
     },
     "execution_count": 4,
     "metadata": {
      "tags": []
     },
     "output_type": "execute_result"
    }
   ],
   "source": [
    "# Preview data\n",
    "data"
   ]
  },
  {
   "cell_type": "code",
   "execution_count": 0,
   "metadata": {
    "colab": {
     "base_uri": "https://localhost:8080/",
     "height": 421
    },
    "colab_type": "code",
    "id": "8qrEaPeWnjeo",
    "outputId": "f1c493eb-5c94-4c67-93d1-08ca87bf1d68"
   },
   "outputs": [
    {
     "data": {
      "text/html": [
       "<div>\n",
       "<style scoped>\n",
       "    .dataframe tbody tr th:only-of-type {\n",
       "        vertical-align: middle;\n",
       "    }\n",
       "\n",
       "    .dataframe tbody tr th {\n",
       "        vertical-align: top;\n",
       "    }\n",
       "\n",
       "    .dataframe thead th {\n",
       "        text-align: right;\n",
       "    }\n",
       "</style>\n",
       "<table border=\"1\" class=\"dataframe\">\n",
       "  <thead>\n",
       "    <tr style=\"text-align: right;\">\n",
       "      <th></th>\n",
       "      <th>index</th>\n",
       "      <th>customer_id</th>\n",
       "      <th>touchpoint</th>\n",
       "      <th>time</th>\n",
       "      <th>conversion</th>\n",
       "    </tr>\n",
       "  </thead>\n",
       "  <tbody>\n",
       "    <tr>\n",
       "      <th>0</th>\n",
       "      <td>0</td>\n",
       "      <td>1</td>\n",
       "      <td>start</td>\n",
       "      <td>1</td>\n",
       "      <td>0</td>\n",
       "    </tr>\n",
       "    <tr>\n",
       "      <th>1</th>\n",
       "      <td>1</td>\n",
       "      <td>1</td>\n",
       "      <td>c1</td>\n",
       "      <td>2</td>\n",
       "      <td>0</td>\n",
       "    </tr>\n",
       "    <tr>\n",
       "      <th>2</th>\n",
       "      <td>2</td>\n",
       "      <td>1</td>\n",
       "      <td>c2</td>\n",
       "      <td>3</td>\n",
       "      <td>0</td>\n",
       "    </tr>\n",
       "    <tr>\n",
       "      <th>3</th>\n",
       "      <td>3</td>\n",
       "      <td>1</td>\n",
       "      <td>c3</td>\n",
       "      <td>4</td>\n",
       "      <td>0</td>\n",
       "    </tr>\n",
       "    <tr>\n",
       "      <th>4</th>\n",
       "      <td>4</td>\n",
       "      <td>1</td>\n",
       "      <td>purchase</td>\n",
       "      <td>5</td>\n",
       "      <td>1</td>\n",
       "    </tr>\n",
       "    <tr>\n",
       "      <th>5</th>\n",
       "      <td>5</td>\n",
       "      <td>1</td>\n",
       "      <td>start</td>\n",
       "      <td>6</td>\n",
       "      <td>0</td>\n",
       "    </tr>\n",
       "    <tr>\n",
       "      <th>6</th>\n",
       "      <td>6</td>\n",
       "      <td>1</td>\n",
       "      <td>c1</td>\n",
       "      <td>7</td>\n",
       "      <td>0</td>\n",
       "    </tr>\n",
       "    <tr>\n",
       "      <th>7</th>\n",
       "      <td>7</td>\n",
       "      <td>1</td>\n",
       "      <td>unsuccessful</td>\n",
       "      <td>8</td>\n",
       "      <td>0</td>\n",
       "    </tr>\n",
       "    <tr>\n",
       "      <th>8</th>\n",
       "      <td>8</td>\n",
       "      <td>2</td>\n",
       "      <td>start</td>\n",
       "      <td>9</td>\n",
       "      <td>0</td>\n",
       "    </tr>\n",
       "    <tr>\n",
       "      <th>9</th>\n",
       "      <td>9</td>\n",
       "      <td>2</td>\n",
       "      <td>c2</td>\n",
       "      <td>10</td>\n",
       "      <td>0</td>\n",
       "    </tr>\n",
       "    <tr>\n",
       "      <th>10</th>\n",
       "      <td>10</td>\n",
       "      <td>2</td>\n",
       "      <td>c3</td>\n",
       "      <td>11</td>\n",
       "      <td>0</td>\n",
       "    </tr>\n",
       "    <tr>\n",
       "      <th>11</th>\n",
       "      <td>11</td>\n",
       "      <td>2</td>\n",
       "      <td>unsuccessful</td>\n",
       "      <td>12</td>\n",
       "      <td>0</td>\n",
       "    </tr>\n",
       "  </tbody>\n",
       "</table>\n",
       "</div>"
      ],
      "text/plain": [
       "    index customer_id    touchpoint  time conversion\n",
       "0       0           1         start     1          0\n",
       "1       1           1            c1     2          0\n",
       "2       2           1            c2     3          0\n",
       "3       3           1            c3     4          0\n",
       "4       4           1      purchase     5          1\n",
       "5       5           1         start     6          0\n",
       "6       6           1            c1     7          0\n",
       "7       7           1  unsuccessful     8          0\n",
       "8       8           2         start     9          0\n",
       "9       9           2            c2    10          0\n",
       "10     10           2            c3    11          0\n",
       "11     11           2  unsuccessful    12          0"
      ]
     },
     "execution_count": 5,
     "metadata": {
      "tags": []
     },
     "output_type": "execute_result"
    }
   ],
   "source": [
    "# Sort data and reindex\n",
    "data = data.sort_values('time')\n",
    "data = data.reset_index()\n",
    "data"
   ]
  },
  {
   "cell_type": "code",
   "execution_count": 0,
   "metadata": {
    "colab": {},
    "colab_type": "code",
    "id": "bxkgVmeknjes"
   },
   "outputs": [],
   "source": [
    "class touchpoints:\n",
    "    def __init__(self, data, touchpoints, start, time, conversion, nonconversion, user_ids):\n",
    "        # Define variables\n",
    "        self.data = data\n",
    "        self.touchpoints = touchpoints\n",
    "        self.start = start\n",
    "        self.conversion = conversion\n",
    "        self.nonconversion = nonconversion\n",
    "        self.user_ids = user_ids\n",
    "        self.time = time\n",
    "        \n",
    "        # Sort data and reindex\n",
    "        self.data = self.data.sort_values(self.time)\n",
    "        self.data = self.data.reset_index()\n",
    "\n",
    "        # Define conversion\n",
    "        self.data['conversions'] = 0 \n",
    "        self.data.loc[self.data[touchpoints]==self.conversion, 'conversions'] = 1\n",
    "        \n",
    "        # Count conversions\n",
    "        self.data['conversion_count'] = self.data.groupby('conversions').cumcount()+1\n",
    "        self.data.loc[self.data['conversions']!=True, 'conversion_count'] = np.nan\n",
    "        self.data['conversion_count'] = self.data['conversion_count'].fillna(method='bfill')\n",
    "        self.data['conversion_count'] = self.data['conversion_count'].fillna(self.data['conversion_count'].max()+1)\n",
    "        \n",
    "        # Split into conversion journeys\n",
    "        self.data['journey_id'] = list(zip(self.data[user_ids], self.data['conversion_count']))\n",
    "        \n",
    "        \n",
    "        # Initialize dict for temporary transition matrices and removal effects\n",
    "        self.temp_trans_matrix = {}\n",
    "        self.temp_x = {}\n",
    "        \n",
    "    def attribute(self):\n",
    "        # Get transitions\n",
    "        self.journeys = pd.DataFrame()\n",
    "        for journey in self.data['journey_id'].unique():\n",
    "            # Get transitions for a single user\n",
    "            temp_journey = self.data.loc[self.data['journey_id']==journey]\n",
    "            temp_journey['next_'+self.touchpoints] = temp_journey[self.touchpoints].shift(-1)\n",
    "            self.journeys = self.journeys.append(temp_journey)\n",
    "        self.journeys = self.journeys.dropna(subset=['next_'+self.touchpoints])\n",
    "\n",
    "        # Get transition probabilities\n",
    "        self.states = self.journeys.pivot_table(index=[self.touchpoints],\n",
    "                                                values='journey_id',\n",
    "                                                aggfunc=len)\n",
    "        self.transitions = self.journeys.pivot_table(index=[self.touchpoints, 'next_'+self.touchpoints],\n",
    "                                                     values='journey_id',\n",
    "                                                     aggfunc=len)\n",
    "        self.transitions = self.transitions.reset_index()\n",
    "        self.transitions = self.transitions.join(self.states, on=self.touchpoints, rsuffix='_total')\n",
    "        self.transitions['probability'] = self.transitions['journey_id']/self.transitions['journey_id'+'_total']\n",
    "        self.transitions = self.transitions.sort_values('probability')\n",
    "\n",
    "        # Get transition matrix\n",
    "        self.trans_matrix = self.transitions.pivot_table(index=self.touchpoints, \n",
    "                                                         columns='next_'+self.touchpoints, \n",
    "                                                         values='probability',\n",
    "                                                         aggfunc=np.mean,\n",
    "                                                         fill_value=0)\n",
    "    \n",
    "        # Add missing columns\n",
    "        for index, row in self.trans_matrix.iterrows():\n",
    "            if index not in self.trans_matrix.columns:\n",
    "                self.trans_matrix[index] = 0\n",
    "    \n",
    "        # Add missing rows\n",
    "        for col in self.trans_matrix.columns:\n",
    "            if col not in self.trans_matrix.index.values:\n",
    "                new_row = pd.Series()\n",
    "                new_row.name = col\n",
    "                self.trans_matrix = self.trans_matrix.append(new_row)\n",
    "    \n",
    "        # Fill in NAs with zero probabilities\n",
    "        self.trans_matrix = self.trans_matrix.fillna(0)\n",
    "    \n",
    "        # Reorder columns to solve as linear equations\n",
    "        self.trans_matrix = self.trans_matrix[self.trans_matrix.index.values]\n",
    "    \n",
    "        # Make sure probabilities sum to 1 (required for next step)\n",
    "        for index, row in self.trans_matrix[self.trans_matrix.sum(axis=1)<1].iterrows():\n",
    "            self.trans_matrix.loc[index, index] = 1\n",
    "\n",
    "        # Set constant term to zero (on RHS)\n",
    "        self.RHS = np.zeros(self.trans_matrix.shape[0])  \n",
    "            \n",
    "        # Set conversion probability at conversion to 1\n",
    "        self.RHS[self.trans_matrix.index.get_loc(self.conversion)] = 1\n",
    "            \n",
    "        # Make equations' RHS equal the long-run transition probability of that variable to the conversion then subtract from both sides\n",
    "        for index, row in self.trans_matrix.iterrows():\n",
    "            if (index != self.conversion) & (index != self.nonconversion):\n",
    "                self.trans_matrix.loc[index, index] -= 1\n",
    "        \n",
    "        # Solve system of equations\n",
    "        self.x = np.linalg.solve(self.trans_matrix, self.RHS)\n",
    "\n",
    "    def attribute_removal(self, remove):\n",
    "        # Copy transition probability table if it exists or create it if it doesn't \n",
    "        try:\n",
    "            self.temp_trans_matrix[remove] = self.trans_matrix.copy()\n",
    "        except:\n",
    "            self.attribute()\n",
    "            self.temp_trans_matrix[remove] = self.trans_matrix.copy()\n",
    "            pass\n",
    "                        \n",
    "        # Set removed touchpoint probabilities to zero except for unsuccessful\n",
    "        self.temp_trans_matrix[remove].loc[remove] = 0\n",
    "        self.temp_trans_matrix[remove].loc[remove, self.nonconversion] = 1\n",
    "        \n",
    "        # Make equations' RHS for the removed touchpoint equal the long-run transition probability of that variable to the conversion then subtract from both sides\n",
    "        self.temp_trans_matrix[remove].loc[remove, remove] -= 1\n",
    "        \n",
    "        # Solve system of equations\n",
    "        self.temp_x[remove] = np.linalg.solve(self.temp_trans_matrix[remove], self.RHS)\n",
    "        \n",
    "    def limit_touchpoints(self, limit=5):\n",
    "        # Limit to top 10 domains\n",
    "        self.data[self.touchpoints] = self.data[self.touchpoints].replace(self.data[self.touchpoints].value_counts().index[limit:], 'Others')\n",
    "        # Keep conversions\n",
    "        self.data.loc[self.data['conversions']==True, touchpoints] = 'Conversion'\n",
    "\n",
    "    def describe_data(self):\n",
    "        temp_data = self.data.copy()\n",
    "        temp_data['temp_column'] = self.data.index\n",
    "        temp_data = temp_data.pivot_table(index='journey_id',\n",
    "                                          columns=self.touchpoints,\n",
    "                                          values='temp_column',\n",
    "                                          aggfunc=len,\n",
    "                                          fill_value=0)\n",
    "        print('There are ' + str(temp_data.shape[0]) + ' unique journeys.')\n",
    "        print('There are ' + str(temp_data.shape[1]) + ' unique touchpoints.')\n",
    "        print(temp_data)\n",
    "\n",
    "    def long_term_transition_probability(self):    \n",
    "        # Get conversion probability at start\n",
    "        conv_prob = self.x[self.trans_matrix.index.get_loc(self.start)]\n",
    "        return conv_prob\n",
    "    \n",
    "    def removal_rate(self, remove):    \n",
    "        # Get conversion probability at start\n",
    "        conv_prob = self.x[self.trans_matrix.index.get_loc(self.start)]\n",
    "        conv_prob_remove = self.temp_x[remove][self.temp_trans_matrix[remove].index.get_loc(self.start)]\n",
    "        removal_rate = 1 - conv_prob_remove/conv_prob\n",
    "        return removal_rate\n",
    "    "
   ]
  },
  {
   "cell_type": "code",
   "execution_count": 0,
   "metadata": {
    "colab": {},
    "colab_type": "code",
    "id": "7u7cmzEMnjeu"
   },
   "outputs": [],
   "source": [
    "tp_data = touchpoints(data=data,\n",
    "                      touchpoints='touchpoint',\n",
    "                      start='start',\n",
    "                      conversion='purchase',\n",
    "                      nonconversion='unsuccessful',\n",
    "                      time='time',\n",
    "                      user_ids='customer_id')"
   ]
  },
  {
   "cell_type": "code",
   "execution_count": 0,
   "metadata": {
    "colab": {
     "base_uri": "https://localhost:8080/",
     "height": 146
    },
    "colab_type": "code",
    "id": "PwDAWjiLnjex",
    "outputId": "df0bcf7c-0dde-4ac3-92ed-0fc5343fd203"
   },
   "outputs": [
    {
     "name": "stdout",
     "output_type": "stream",
     "text": [
      "There are 3 unique journeys.\n",
      "There are 6 unique touchpoints.\n",
      "touchpoint  c1  c2  c3  purchase  start  unsuccessful\n",
      "journey_id                                           \n",
      "(1, 1.0)     1   1   1         1      1             0\n",
      "(1, 2.0)     1   0   0         0      1             1\n",
      "(2, 2.0)     0   1   1         0      1             1\n"
     ]
    }
   ],
   "source": [
    "# Describe the customer journeys\n",
    "tp_data.describe_data()"
   ]
  },
  {
   "cell_type": "code",
   "execution_count": 0,
   "metadata": {
    "colab": {
     "base_uri": "https://localhost:8080/",
     "height": 109
    },
    "colab_type": "code",
    "id": "FStwvD2Snje2",
    "outputId": "4d704ac1-1a0f-4a1a-be1e-e8d14e7884a3",
    "scrolled": false
   },
   "outputs": [
    {
     "name": "stderr",
     "output_type": "stream",
     "text": [
      "/usr/local/lib/python3.6/dist-packages/ipykernel_launcher.py:40: SettingWithCopyWarning: \n",
      "A value is trying to be set on a copy of a slice from a DataFrame.\n",
      "Try using .loc[row_indexer,col_indexer] = value instead\n",
      "\n",
      "See the caveats in the documentation: http://pandas.pydata.org/pandas-docs/stable/indexing.html#indexing-view-versus-copy\n"
     ]
    }
   ],
   "source": [
    "# Calculate the removal rate for c1\n",
    "tp_data.attribute_removal('c1')"
   ]
  },
  {
   "cell_type": "code",
   "execution_count": 0,
   "metadata": {
    "colab": {
     "base_uri": "https://localhost:8080/",
     "height": 35
    },
    "colab_type": "code",
    "id": "zdilTjgKnje6",
    "outputId": "a02c3012-b45e-4e5c-974b-0ee82d5e4cd4"
   },
   "outputs": [
    {
     "data": {
      "text/plain": [
       "0.3333333333333333"
      ]
     },
     "execution_count": 10,
     "metadata": {
      "tags": []
     },
     "output_type": "execute_result"
    }
   ],
   "source": [
    "# Show the long term transition probability for the entire Markov chain\n",
    "tp_data.long_term_transition_probability()"
   ]
  },
  {
   "cell_type": "code",
   "execution_count": 0,
   "metadata": {
    "colab": {
     "base_uri": "https://localhost:8080/",
     "height": 35
    },
    "colab_type": "code",
    "id": "G6srLNQmnje9",
    "outputId": "10901a1e-e0ba-49e7-f981-87a53f04e07c"
   },
   "outputs": [
    {
     "data": {
      "text/plain": [
       "0.5"
      ]
     },
     "execution_count": 11,
     "metadata": {
      "tags": []
     },
     "output_type": "execute_result"
    }
   ],
   "source": [
    "# Show the removal rate for c1\n",
    "tp_data.removal_rate('c1')"
   ]
  },
  {
   "cell_type": "code",
   "execution_count": 0,
   "metadata": {
    "colab": {},
    "colab_type": "code",
    "id": "AA8Os7XqnjfB"
   },
   "outputs": [],
   "source": [
    "# Calculate the removal rate for c2 then c3\n",
    "tp_data.attribute_removal('c2')\n",
    "tp_data.attribute_removal('c3')"
   ]
  },
  {
   "cell_type": "code",
   "execution_count": 0,
   "metadata": {
    "colab": {
     "base_uri": "https://localhost:8080/",
     "height": 35
    },
    "colab_type": "code",
    "id": "M4RyUlM4njfE",
    "outputId": "1292e6e8-db20-4407-9736-cb06b837fa49"
   },
   "outputs": [
    {
     "data": {
      "text/plain": [
       "1.0"
      ]
     },
     "execution_count": 13,
     "metadata": {
      "tags": []
     },
     "output_type": "execute_result"
    }
   ],
   "source": [
    "# Show the removal rate for c2\n",
    "tp_data.removal_rate('c2')"
   ]
  },
  {
   "cell_type": "code",
   "execution_count": 0,
   "metadata": {
    "colab": {
     "base_uri": "https://localhost:8080/",
     "height": 35
    },
    "colab_type": "code",
    "id": "6gSZNSt2njfM",
    "outputId": "c8142f83-21e4-4cfc-c414-b92470fb2ae7"
   },
   "outputs": [
    {
     "data": {
      "text/plain": [
       "1.0"
      ]
     },
     "execution_count": 14,
     "metadata": {
      "tags": []
     },
     "output_type": "execute_result"
    }
   ],
   "source": [
    "# Show the removal rate for c3\n",
    "tp_data.removal_rate('c3')"
   ]
  },
  {
   "cell_type": "markdown",
   "metadata": {
    "colab_type": "text",
    "id": "2muOcJLlnjfT"
   },
   "source": [
    "## Interpretation\n",
    "The removal effect represents the conversions potentially lost if a touchpoint is removed. This is treated as a measure of the touchpoint's importance - since both c2 and c3 have removal effects of 100% while c1 has a removal effect of only 50%, we can say that both c2 and c3 are twice as important as c1 since their removal effects are twice as large.\n",
    "\n",
    "| Channel | Removal Effect |\n",
    "|---------|----------------|\n",
    "| c1 | 50% |\n",
    "| c2 | 100% |\n",
    "| c3 | 100% |\n",
    "\n",
    "The removal effect can also be used to estimate the number of conversions attributed to each touchpoint. Since we want to base the attribution on the importance of each touchpoint, we distribute the conversions based on each touchpoint's removal effect. For example, to get the conversions attributed to c1, we need to divide the number of conversions by the sum of the removal effects for all touchpoints and then multiply that value by the removal effect for touchpoint c1 - essentially attributing c1 based on its share of removal effect.\n",
    "\n",
    "$$ conversions_{c1} = \\sum conversions \\times \\frac{removal\\ effect_{c1}}{\\sum_{i=1}^n removal\\ effect_i} $$\n",
    "\n",
    "$$ conversions_{c1} = 1 \\times \\frac{50\\%}{50\\%+100\\%+100\\%} $$\n",
    "\n",
    "$$ conversions_{c1} = 0.2 $$\n",
    "\n",
    "The full conversion attribution for each touchpoint in the sample problem is given below:\n",
    "\n",
    "| Channel | Removal Effect | Attributed Conversions |\n",
    "|---------|----------------|------------------------|\n",
    "| c1 | 50% | 0.2 |\n",
    "| c2 | 100% | 0.4 |\n",
    "| c3 | 100% | 0.4 |"
   ]
  },
  {
   "cell_type": "code",
   "execution_count": 0,
   "metadata": {
    "colab": {},
    "colab_type": "code",
    "id": "GMGl-m64njfW"
   },
   "outputs": [],
   "source": []
  }
 ],
 "metadata": {
  "colab": {
   "name": "Attribution.ipynb",
   "provenance": []
  },
  "kernelspec": {
   "display_name": "Python 3",
   "language": "python",
   "name": "python3"
  },
  "language_info": {
   "codemirror_mode": {
    "name": "ipython",
    "version": 3
   },
   "file_extension": ".py",
   "mimetype": "text/x-python",
   "name": "python",
   "nbconvert_exporter": "python",
   "pygments_lexer": "ipython3",
   "version": "3.6.5"
  }
 },
 "nbformat": 4,
 "nbformat_minor": 1
}
